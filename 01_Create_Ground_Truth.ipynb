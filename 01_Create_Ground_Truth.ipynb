{
 "cells": [
  {
   "cell_type": "markdown",
   "id": "a15639eb",
   "metadata": {},
   "source": [
    "## Landsattrend ground truth creation "
   ]
  },
  {
   "cell_type": "code",
   "execution_count": null,
   "id": "cf71927e",
   "metadata": {},
   "outputs": [],
   "source": [
    "import ee#, eemont\n",
    "#ee.Authenticate()\n",
    "ee.Initialize()"
   ]
  },
  {
   "cell_type": "code",
   "execution_count": null,
   "id": "a405766a",
   "metadata": {},
   "outputs": [],
   "source": [
    "import geemap\n",
    "from importlib import reload  \n",
    "import geopandas as gpd\n",
    "import numpy as np\n",
    "import tqdm\n",
    "import pandas as pd"
   ]
  },
  {
   "cell_type": "code",
   "execution_count": null,
   "id": "fcb9db41",
   "metadata": {},
   "outputs": [],
   "source": [
    "from modules import high_level_functions\n",
    "from modules import utils_Landsat_SR as utils_LS\n",
    "from modules import ms_indices as indices\n",
    "from modules import configs, utils_string"
   ]
  },
  {
   "cell_type": "code",
   "execution_count": null,
   "id": "a0d8b897",
   "metadata": {},
   "outputs": [],
   "source": [
    "# PROPERTIES\n",
    "# SET METADATA PARAMETERS\n",
    "MAXCLOUD = 70\n",
    "STARTYEAR = 2000\n",
    "ENDYEAR = 2014\n",
    "STARTMONTH = 7\n",
    "ENDMONTH = 8\n",
    "SCALE = 30\n"
   ]
  },
  {
   "cell_type": "code",
   "execution_count": null,
   "id": "68cf964d",
   "metadata": {},
   "outputs": [],
   "source": [
    "# image metadata Filters\n",
    "config_trend = {\n",
    "  'date_filter_yr' : ee.Filter.calendarRange(STARTYEAR, ENDYEAR, 'year'),\n",
    "  'date_filter_mth' : ee.Filter.calendarRange(STARTMONTH, ENDMONTH, 'month'),\n",
    "  'meta_filter_cld' : ee.Filter.lt('CLOUD_COVER', MAXCLOUD),\n",
    "  'select_bands_visible' : [\"B1\", \"B2\",\"B3\",\"B4\"],\n",
    "  'select_indices' : [\"TCB\", \"TCG\", \"TCW\", \"NDVI\", \"NDMI\", \"NDWI\"],\n",
    "  'select_TCtrend_bands' : [\"TCB_slope\", \"TCG_slope\", \"TCW_slope\"],\n",
    "  'geom' : None\n",
    "}\n",
    "#------ RUN FULL PROCESS FOR ALL REGIONS IN LOOP ------------------------------\n",
    "#Map.addLayer(imageCollection, {}, 'TCVIS')"
   ]
  },
  {
   "cell_type": "code",
   "execution_count": null,
   "id": "3ad23703",
   "metadata": {},
   "outputs": [],
   "source": [
    "geometry = ee.FeatureCollection(ee.FeatureCollection('users/ingmarnitze/Ground_Truth/GlobPF_CCI/gt_v03'))"
   ]
  },
  {
   "cell_type": "code",
   "execution_count": null,
   "id": "ff107cdc",
   "metadata": {},
   "outputs": [],
   "source": [
    "FC_size = geometry.size().getInfo()"
   ]
  },
  {
   "cell_type": "markdown",
   "id": "2273accd",
   "metadata": {},
   "source": [
    "#### Filter to n features \n",
    "* get size of geom\n",
    "* necessary for reduction"
   ]
  },
  {
   "cell_type": "code",
   "execution_count": null,
   "id": "a7bf3979",
   "metadata": {},
   "outputs": [],
   "source": [
    "geom = ee.FeatureCollection(geometry.toList(count=10, offset=100))"
   ]
  },
  {
   "cell_type": "code",
   "execution_count": null,
   "id": "e4ed3d18",
   "metadata": {},
   "outputs": [],
   "source": [
    "def get_df_from_fc_sample(fc, config_trend):\n",
    "    geom_buf = fc.geometry().buffer(200)\n",
    "    config_trend['geom'] = geom_buf\n",
    "    trend = high_level_functions.runTCTrend(config_trend)\n",
    "    im = trend['data']\n",
    "    bands = im.bandNames().getInfo()[1:]\n",
    "    fcout = im.select(bands).sampleRegions(collection=fc,\n",
    "                                       scale=30,\n",
    "                                      )\n",
    "    return geemap.ee_to_pandas(fcout)"
   ]
  },
  {
   "cell_type": "code",
   "execution_count": null,
   "id": "8b755f7d",
   "metadata": {},
   "outputs": [],
   "source": [
    "offset = np.arange(0, FC_size, 10)"
   ]
  },
  {
   "cell_type": "code",
   "execution_count": null,
   "id": "8895a5ab",
   "metadata": {},
   "outputs": [],
   "source": [
    "df_list = []\n",
    "for i in tqdm.tqdm_notebook(offset):\n",
    "    # check here for loop solution\n",
    "    geom = ee.FeatureCollection(geometry.toList(count=10, offset=int(i)))\n",
    "    df_list.append(get_df_from_fc_sample(geom, config_trend))"
   ]
  },
  {
   "cell_type": "code",
   "execution_count": null,
   "id": "4eee61d0",
   "metadata": {},
   "outputs": [],
   "source": [
    "df = pd.concat(df_list)"
   ]
  },
  {
   "cell_type": "code",
   "execution_count": null,
   "id": "dc772bbe",
   "metadata": {},
   "outputs": [],
   "source": [
    "df.to_csv('train_data.csv')"
   ]
  },
  {
   "cell_type": "markdown",
   "id": "baefc706",
   "metadata": {},
   "source": [
    "### DEM values \n",
    "* load DEM\n",
    "    * Arcticdem ALOSDEM\n",
    "* calculate Slope\n",
    "* extract data"
   ]
  },
  {
   "cell_type": "code",
   "execution_count": null,
   "id": "9429fc90",
   "metadata": {},
   "outputs": [],
   "source": [
    "dem = ee.ImageCollection(\"JAXA/ALOS/AW3D30/V3_2\").mosaic()\n",
    "#dem = ee.Image(\"UMN/PGC/ArcticDEM/V3/2m_mosaic\")\n",
    "slope = ee.Terrain.slope(dem)\n",
    "# get elevation\n",
    "# get slope\n",
    "# add Bands\n",
    "# sample Regions"
   ]
  },
  {
   "cell_type": "code",
   "execution_count": null,
   "id": "3152fcc6",
   "metadata": {},
   "outputs": [],
   "source": [
    "dem = dem.addBands(slope)"
   ]
  },
  {
   "cell_type": "code",
   "execution_count": null,
   "id": "cec92072",
   "metadata": {},
   "outputs": [],
   "source": [
    "fcel = dem.select(['DSM', 'slope']).sampleRegions(collection=geometry,\n",
    "                                       scale=30,\n",
    "                                      )"
   ]
  },
  {
   "cell_type": "code",
   "execution_count": null,
   "id": "48fe6934",
   "metadata": {},
   "outputs": [],
   "source": [
    "df_el = geemap.ee_to_pandas(fcel)"
   ]
  },
  {
   "cell_type": "code",
   "execution_count": null,
   "id": "a3ddff20",
   "metadata": {},
   "outputs": [],
   "source": [
    "df_el.to_csv('train_dem.csv')"
   ]
  }
 ],
 "metadata": {
  "kernelspec": {
   "display_name": "Python 3 (ipykernel)",
   "language": "python",
   "name": "python3"
  },
  "language_info": {
   "codemirror_mode": {
    "name": "ipython",
    "version": 3
   },
   "file_extension": ".py",
   "mimetype": "text/x-python",
   "name": "python",
   "nbconvert_exporter": "python",
   "pygments_lexer": "ipython3",
   "version": "3.8.12"
  }
 },
 "nbformat": 4,
 "nbformat_minor": 5
}
